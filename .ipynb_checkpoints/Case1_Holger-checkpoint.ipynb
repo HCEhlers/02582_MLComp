{
 "cells": [
  {
   "cell_type": "markdown",
   "id": "1ec9d671",
   "metadata": {},
   "source": [
    "# Case 1 - Load Factor Prediction"
   ]
  },
  {
   "cell_type": "code",
   "execution_count": 112,
   "id": "8975e867",
   "metadata": {},
   "outputs": [],
   "source": [
    "import pandas as pd\n",
    "import numpy as np\n",
    "np.set_printoptions(suppress=True)  # suppress scientific notation\n",
    "import datetime\n",
    "from sklearn.preprocessing import LabelEncoder\n",
    "from sklearn import preprocessing as preproc # load preprocessing function\n",
    "from sklearn.model_selection import KFold\n",
    "from sklearn import linear_model \n",
    "import scipy . linalg as lng\n",
    "import seaborn as sns\n",
    "import matplotlib.pyplot as plt\n",
    "import math"
   ]
  },
  {
   "cell_type": "code",
   "execution_count": 113,
   "id": "af88dadd",
   "metadata": {},
   "outputs": [],
   "source": [
    "# import original xlsx\n",
    "df = pd.read_excel('Realized Schedule 20210101-20220208.xlsx')"
   ]
  },
  {
   "cell_type": "code",
   "execution_count": 114,
   "id": "bbf4c411",
   "metadata": {},
   "outputs": [
    {
     "data": {
      "text/html": [
       "<div>\n",
       "<style scoped>\n",
       "    .dataframe tbody tr th:only-of-type {\n",
       "        vertical-align: middle;\n",
       "    }\n",
       "\n",
       "    .dataframe tbody tr th {\n",
       "        vertical-align: top;\n",
       "    }\n",
       "\n",
       "    .dataframe thead th {\n",
       "        text-align: right;\n",
       "    }\n",
       "</style>\n",
       "<table border=\"1\" class=\"dataframe\">\n",
       "  <thead>\n",
       "    <tr style=\"text-align: right;\">\n",
       "      <th></th>\n",
       "      <th>ScheduleTime</th>\n",
       "      <th>Airline</th>\n",
       "      <th>FlightNumber</th>\n",
       "      <th>Destination</th>\n",
       "      <th>AircraftType</th>\n",
       "      <th>FlightType</th>\n",
       "      <th>Sector</th>\n",
       "      <th>SeatCapacity</th>\n",
       "      <th>LoadFactor</th>\n",
       "    </tr>\n",
       "  </thead>\n",
       "  <tbody>\n",
       "    <tr>\n",
       "      <th>0</th>\n",
       "      <td>2021-01-01 06:35:00</td>\n",
       "      <td>IA</td>\n",
       "      <td>874</td>\n",
       "      <td>DEN</td>\n",
       "      <td>73W</td>\n",
       "      <td>J</td>\n",
       "      <td>US</td>\n",
       "      <td>142</td>\n",
       "      <td>0.408451</td>\n",
       "    </tr>\n",
       "    <tr>\n",
       "      <th>1</th>\n",
       "      <td>2021-01-01 10:35:00</td>\n",
       "      <td>JZ</td>\n",
       "      <td>818</td>\n",
       "      <td>YHM</td>\n",
       "      <td>AT7</td>\n",
       "      <td>J</td>\n",
       "      <td>CA</td>\n",
       "      <td>74</td>\n",
       "      <td>0.189189</td>\n",
       "    </tr>\n",
       "    <tr>\n",
       "      <th>2</th>\n",
       "      <td>2021-01-01 12:05:00</td>\n",
       "      <td>IA</td>\n",
       "      <td>876</td>\n",
       "      <td>DEN</td>\n",
       "      <td>73W</td>\n",
       "      <td>J</td>\n",
       "      <td>US</td>\n",
       "      <td>142</td>\n",
       "      <td>0.570423</td>\n",
       "    </tr>\n",
       "    <tr>\n",
       "      <th>3</th>\n",
       "      <td>2021-01-01 13:20:00</td>\n",
       "      <td>CN</td>\n",
       "      <td>514</td>\n",
       "      <td>EST</td>\n",
       "      <td>AT7</td>\n",
       "      <td>J</td>\n",
       "      <td>US</td>\n",
       "      <td>72</td>\n",
       "      <td>0.333333</td>\n",
       "    </tr>\n",
       "    <tr>\n",
       "      <th>4</th>\n",
       "      <td>2021-01-01 14:20:00</td>\n",
       "      <td>LJ</td>\n",
       "      <td>3140</td>\n",
       "      <td>DEN</td>\n",
       "      <td>32A</td>\n",
       "      <td>J</td>\n",
       "      <td>US</td>\n",
       "      <td>186</td>\n",
       "      <td>0.204301</td>\n",
       "    </tr>\n",
       "    <tr>\n",
       "      <th>...</th>\n",
       "      <td>...</td>\n",
       "      <td>...</td>\n",
       "      <td>...</td>\n",
       "      <td>...</td>\n",
       "      <td>...</td>\n",
       "      <td>...</td>\n",
       "      <td>...</td>\n",
       "      <td>...</td>\n",
       "      <td>...</td>\n",
       "    </tr>\n",
       "    <tr>\n",
       "      <th>36765</th>\n",
       "      <td>2022-02-08 18:30:00</td>\n",
       "      <td>VW</td>\n",
       "      <td>986</td>\n",
       "      <td>YYZ</td>\n",
       "      <td>320</td>\n",
       "      <td>J</td>\n",
       "      <td>CA</td>\n",
       "      <td>180</td>\n",
       "      <td>0.522222</td>\n",
       "    </tr>\n",
       "    <tr>\n",
       "      <th>36766</th>\n",
       "      <td>2022-02-08 19:30:00</td>\n",
       "      <td>LJ</td>\n",
       "      <td>579</td>\n",
       "      <td>YQU</td>\n",
       "      <td>319</td>\n",
       "      <td>J</td>\n",
       "      <td>CA</td>\n",
       "      <td>156</td>\n",
       "      <td>0.532051</td>\n",
       "    </tr>\n",
       "    <tr>\n",
       "      <th>36767</th>\n",
       "      <td>2022-02-08 19:40:00</td>\n",
       "      <td>LJ</td>\n",
       "      <td>506</td>\n",
       "      <td>YUL</td>\n",
       "      <td>319</td>\n",
       "      <td>J</td>\n",
       "      <td>CA</td>\n",
       "      <td>156</td>\n",
       "      <td>0.602564</td>\n",
       "    </tr>\n",
       "    <tr>\n",
       "      <th>36768</th>\n",
       "      <td>2022-02-08 19:05:00</td>\n",
       "      <td>CL</td>\n",
       "      <td>2708</td>\n",
       "      <td>DAN</td>\n",
       "      <td>73H</td>\n",
       "      <td>J</td>\n",
       "      <td>US</td>\n",
       "      <td>189</td>\n",
       "      <td>0.417989</td>\n",
       "    </tr>\n",
       "    <tr>\n",
       "      <th>36769</th>\n",
       "      <td>2022-02-08 20:35:00</td>\n",
       "      <td>CL</td>\n",
       "      <td>3140</td>\n",
       "      <td>HFD</td>\n",
       "      <td>73H</td>\n",
       "      <td>J</td>\n",
       "      <td>US</td>\n",
       "      <td>189</td>\n",
       "      <td>0.497354</td>\n",
       "    </tr>\n",
       "  </tbody>\n",
       "</table>\n",
       "<p>36770 rows × 9 columns</p>\n",
       "</div>"
      ],
      "text/plain": [
       "             ScheduleTime Airline  FlightNumber Destination AircraftType  \\\n",
       "0     2021-01-01 06:35:00      IA           874         DEN          73W   \n",
       "1     2021-01-01 10:35:00      JZ           818         YHM          AT7   \n",
       "2     2021-01-01 12:05:00      IA           876         DEN          73W   \n",
       "3     2021-01-01 13:20:00      CN           514         EST          AT7   \n",
       "4     2021-01-01 14:20:00      LJ          3140         DEN          32A   \n",
       "...                   ...     ...           ...         ...          ...   \n",
       "36765 2022-02-08 18:30:00      VW           986         YYZ          320   \n",
       "36766 2022-02-08 19:30:00      LJ           579         YQU          319   \n",
       "36767 2022-02-08 19:40:00      LJ           506         YUL          319   \n",
       "36768 2022-02-08 19:05:00      CL          2708         DAN          73H   \n",
       "36769 2022-02-08 20:35:00      CL          3140         HFD          73H   \n",
       "\n",
       "      FlightType Sector  SeatCapacity  LoadFactor  \n",
       "0              J     US           142    0.408451  \n",
       "1              J     CA            74    0.189189  \n",
       "2              J     US           142    0.570423  \n",
       "3              J     US            72    0.333333  \n",
       "4              J     US           186    0.204301  \n",
       "...          ...    ...           ...         ...  \n",
       "36765          J     CA           180    0.522222  \n",
       "36766          J     CA           156    0.532051  \n",
       "36767          J     CA           156    0.602564  \n",
       "36768          J     US           189    0.417989  \n",
       "36769          J     US           189    0.497354  \n",
       "\n",
       "[36770 rows x 9 columns]"
      ]
     },
     "execution_count": 114,
     "metadata": {},
     "output_type": "execute_result"
    }
   ],
   "source": [
    "df"
   ]
  },
  {
   "cell_type": "code",
   "execution_count": 115,
   "id": "f6ce2c6a",
   "metadata": {},
   "outputs": [],
   "source": [
    "################################\n",
    "#Process 'ScheduleTime' Feature#\n",
    "################################\n",
    "df.insert(1,'Year', df['ScheduleTime'].dt.year)  # insert a column for year\n",
    "\n",
    "# calculate days passed from the first day of the year (xxxx-01-01 00:00:00)\n",
    "df.insert(2,'DateReference', pd.to_datetime(df['Year'].astype(str) + '-01-01 00:00:00'))\n",
    "df.insert(3,'DaysPassed', \n",
    "         ((df['ScheduleTime'] - df['DateReference'])/pd.Timedelta(1, 'd')).fillna(0).astype(int))\n",
    "# calculate minutes passed from the beginning of the day (00:00:00)\n",
    "df.insert(4,'MinutesPassed', (df['ScheduleTime'].dt.hour * 60 + df['ScheduleTime'].dt.minute).astype(int))\n",
    "# calculate day of week (Monday - 0; Sunday - 6)\n",
    "df.insert(5,'DayOfWeek', (df['ScheduleTime'].dt.dayofweek).astype(int))\n",
    "df = df.drop('DateReference', 1)"
   ]
  },
  {
   "cell_type": "code",
   "execution_count": 116,
   "id": "f1133d89",
   "metadata": {},
   "outputs": [],
   "source": [
    "# force types of each column\n",
    "df['Year'] = df['Year'].astype(int)\n",
    "df['DaysPassed'] = df['DaysPassed'].astype(int)\n",
    "df['MinutesPassed'] = df['MinutesPassed'].astype(int)\n",
    "df['DayOfWeek'] = df['DayOfWeek'].astype(int)\n",
    "df['Airline'] = df['Airline'].astype(str)\n",
    "df['FlightNumber'] = df['FlightNumber'].astype(int)\n",
    "df['Destination'] = df['Destination'].astype(str)\n",
    "df['AircraftType'] = df['AircraftType'].astype(str)\n",
    "df['FlightType'] = df['FlightType'].astype(str)\n",
    "df['Sector'] = df['Sector'].astype(str)\n",
    "df['SeatCapacity'] = df['SeatCapacity'].astype(int)\n",
    "df['LoadFactor'] = df['LoadFactor'].astype(float)"
   ]
  },
  {
   "cell_type": "code",
   "execution_count": 117,
   "id": "00e171de",
   "metadata": {},
   "outputs": [],
   "source": [
    "###################\n",
    "#Holiday Indicator#\n",
    "###################\n",
    "\n",
    "################################\n",
    "#Easter of 2021 - 4th of April##\n",
    "#Easter of 2022 - 17th of April#\n",
    "################################\n",
    "\n",
    "multiplier = 7  # the number of days in Easter holiday\n",
    "def add_holiday(x):\n",
    "    if x.Year == 2021:\n",
    "        day = 93  # Easter day of 2021 from new years day\n",
    "    else:\n",
    "        day = 106  # Easter day of 2022 from new years day\n",
    "    indicator = (x.DaysPassed - day) * 0.1 if abs(x.DaysPassed - day) <= 10 else 0\n",
    "    if indicator < 0:  # before Easter\n",
    "        indicator += 1\n",
    "    elif indicator > 0:  # after Easter\n",
    "        indicator -= 1\n",
    "    elif abs(x.DaysPassed - day) <= 10:\n",
    "        indicator = 1\n",
    "    indicator *= multiplier\n",
    "\n",
    "    for i, v in x.items():\n",
    "        if i == 'holidayIndicator':\n",
    "            indicator += x.holidayIndicator\n",
    "            break\n",
    "    return indicator\n",
    "\n",
    "holiday_column = df.apply(add_holiday, axis=1, result_type='expand')\n",
    "df.insert(5,'HolidayIndicator', holiday_column.astype(float))"
   ]
  },
  {
   "cell_type": "code",
   "execution_count": 118,
   "id": "d7fc2ff7",
   "metadata": {},
   "outputs": [
    {
     "data": {
      "text/html": [
       "<div>\n",
       "<style scoped>\n",
       "    .dataframe tbody tr th:only-of-type {\n",
       "        vertical-align: middle;\n",
       "    }\n",
       "\n",
       "    .dataframe tbody tr th {\n",
       "        vertical-align: top;\n",
       "    }\n",
       "\n",
       "    .dataframe thead th {\n",
       "        text-align: right;\n",
       "    }\n",
       "</style>\n",
       "<table border=\"1\" class=\"dataframe\">\n",
       "  <thead>\n",
       "    <tr style=\"text-align: right;\">\n",
       "      <th></th>\n",
       "      <th>ScheduleTime</th>\n",
       "      <th>Year</th>\n",
       "      <th>DaysPassed</th>\n",
       "      <th>MinutesPassed</th>\n",
       "      <th>DayOfWeek</th>\n",
       "      <th>HolidayIndicator</th>\n",
       "      <th>Airline</th>\n",
       "      <th>FlightNumber</th>\n",
       "      <th>Destination</th>\n",
       "      <th>AircraftType</th>\n",
       "      <th>FlightType</th>\n",
       "      <th>Sector</th>\n",
       "      <th>SeatCapacity</th>\n",
       "      <th>LoadFactor</th>\n",
       "    </tr>\n",
       "  </thead>\n",
       "  <tbody>\n",
       "    <tr>\n",
       "      <th>0</th>\n",
       "      <td>2021-01-01 06:35:00</td>\n",
       "      <td>2021</td>\n",
       "      <td>0</td>\n",
       "      <td>395</td>\n",
       "      <td>4</td>\n",
       "      <td>0.0</td>\n",
       "      <td>IA</td>\n",
       "      <td>874</td>\n",
       "      <td>DEN</td>\n",
       "      <td>73W</td>\n",
       "      <td>J</td>\n",
       "      <td>US</td>\n",
       "      <td>142</td>\n",
       "      <td>0.408451</td>\n",
       "    </tr>\n",
       "    <tr>\n",
       "      <th>1</th>\n",
       "      <td>2021-01-01 10:35:00</td>\n",
       "      <td>2021</td>\n",
       "      <td>0</td>\n",
       "      <td>635</td>\n",
       "      <td>4</td>\n",
       "      <td>0.0</td>\n",
       "      <td>JZ</td>\n",
       "      <td>818</td>\n",
       "      <td>YHM</td>\n",
       "      <td>AT7</td>\n",
       "      <td>J</td>\n",
       "      <td>CA</td>\n",
       "      <td>74</td>\n",
       "      <td>0.189189</td>\n",
       "    </tr>\n",
       "    <tr>\n",
       "      <th>2</th>\n",
       "      <td>2021-01-01 12:05:00</td>\n",
       "      <td>2021</td>\n",
       "      <td>0</td>\n",
       "      <td>725</td>\n",
       "      <td>4</td>\n",
       "      <td>0.0</td>\n",
       "      <td>IA</td>\n",
       "      <td>876</td>\n",
       "      <td>DEN</td>\n",
       "      <td>73W</td>\n",
       "      <td>J</td>\n",
       "      <td>US</td>\n",
       "      <td>142</td>\n",
       "      <td>0.570423</td>\n",
       "    </tr>\n",
       "    <tr>\n",
       "      <th>3</th>\n",
       "      <td>2021-01-01 13:20:00</td>\n",
       "      <td>2021</td>\n",
       "      <td>0</td>\n",
       "      <td>800</td>\n",
       "      <td>4</td>\n",
       "      <td>0.0</td>\n",
       "      <td>CN</td>\n",
       "      <td>514</td>\n",
       "      <td>EST</td>\n",
       "      <td>AT7</td>\n",
       "      <td>J</td>\n",
       "      <td>US</td>\n",
       "      <td>72</td>\n",
       "      <td>0.333333</td>\n",
       "    </tr>\n",
       "    <tr>\n",
       "      <th>4</th>\n",
       "      <td>2021-01-01 14:20:00</td>\n",
       "      <td>2021</td>\n",
       "      <td>0</td>\n",
       "      <td>860</td>\n",
       "      <td>4</td>\n",
       "      <td>0.0</td>\n",
       "      <td>LJ</td>\n",
       "      <td>3140</td>\n",
       "      <td>DEN</td>\n",
       "      <td>32A</td>\n",
       "      <td>J</td>\n",
       "      <td>US</td>\n",
       "      <td>186</td>\n",
       "      <td>0.204301</td>\n",
       "    </tr>\n",
       "    <tr>\n",
       "      <th>...</th>\n",
       "      <td>...</td>\n",
       "      <td>...</td>\n",
       "      <td>...</td>\n",
       "      <td>...</td>\n",
       "      <td>...</td>\n",
       "      <td>...</td>\n",
       "      <td>...</td>\n",
       "      <td>...</td>\n",
       "      <td>...</td>\n",
       "      <td>...</td>\n",
       "      <td>...</td>\n",
       "      <td>...</td>\n",
       "      <td>...</td>\n",
       "      <td>...</td>\n",
       "    </tr>\n",
       "    <tr>\n",
       "      <th>36765</th>\n",
       "      <td>2022-02-08 18:30:00</td>\n",
       "      <td>2022</td>\n",
       "      <td>38</td>\n",
       "      <td>1110</td>\n",
       "      <td>1</td>\n",
       "      <td>0.0</td>\n",
       "      <td>VW</td>\n",
       "      <td>986</td>\n",
       "      <td>YYZ</td>\n",
       "      <td>320</td>\n",
       "      <td>J</td>\n",
       "      <td>CA</td>\n",
       "      <td>180</td>\n",
       "      <td>0.522222</td>\n",
       "    </tr>\n",
       "    <tr>\n",
       "      <th>36766</th>\n",
       "      <td>2022-02-08 19:30:00</td>\n",
       "      <td>2022</td>\n",
       "      <td>38</td>\n",
       "      <td>1170</td>\n",
       "      <td>1</td>\n",
       "      <td>0.0</td>\n",
       "      <td>LJ</td>\n",
       "      <td>579</td>\n",
       "      <td>YQU</td>\n",
       "      <td>319</td>\n",
       "      <td>J</td>\n",
       "      <td>CA</td>\n",
       "      <td>156</td>\n",
       "      <td>0.532051</td>\n",
       "    </tr>\n",
       "    <tr>\n",
       "      <th>36767</th>\n",
       "      <td>2022-02-08 19:40:00</td>\n",
       "      <td>2022</td>\n",
       "      <td>38</td>\n",
       "      <td>1180</td>\n",
       "      <td>1</td>\n",
       "      <td>0.0</td>\n",
       "      <td>LJ</td>\n",
       "      <td>506</td>\n",
       "      <td>YUL</td>\n",
       "      <td>319</td>\n",
       "      <td>J</td>\n",
       "      <td>CA</td>\n",
       "      <td>156</td>\n",
       "      <td>0.602564</td>\n",
       "    </tr>\n",
       "    <tr>\n",
       "      <th>36768</th>\n",
       "      <td>2022-02-08 19:05:00</td>\n",
       "      <td>2022</td>\n",
       "      <td>38</td>\n",
       "      <td>1145</td>\n",
       "      <td>1</td>\n",
       "      <td>0.0</td>\n",
       "      <td>CL</td>\n",
       "      <td>2708</td>\n",
       "      <td>DAN</td>\n",
       "      <td>73H</td>\n",
       "      <td>J</td>\n",
       "      <td>US</td>\n",
       "      <td>189</td>\n",
       "      <td>0.417989</td>\n",
       "    </tr>\n",
       "    <tr>\n",
       "      <th>36769</th>\n",
       "      <td>2022-02-08 20:35:00</td>\n",
       "      <td>2022</td>\n",
       "      <td>38</td>\n",
       "      <td>1235</td>\n",
       "      <td>1</td>\n",
       "      <td>0.0</td>\n",
       "      <td>CL</td>\n",
       "      <td>3140</td>\n",
       "      <td>HFD</td>\n",
       "      <td>73H</td>\n",
       "      <td>J</td>\n",
       "      <td>US</td>\n",
       "      <td>189</td>\n",
       "      <td>0.497354</td>\n",
       "    </tr>\n",
       "  </tbody>\n",
       "</table>\n",
       "<p>36770 rows × 14 columns</p>\n",
       "</div>"
      ],
      "text/plain": [
       "             ScheduleTime  Year  DaysPassed  MinutesPassed  DayOfWeek  \\\n",
       "0     2021-01-01 06:35:00  2021           0            395          4   \n",
       "1     2021-01-01 10:35:00  2021           0            635          4   \n",
       "2     2021-01-01 12:05:00  2021           0            725          4   \n",
       "3     2021-01-01 13:20:00  2021           0            800          4   \n",
       "4     2021-01-01 14:20:00  2021           0            860          4   \n",
       "...                   ...   ...         ...            ...        ...   \n",
       "36765 2022-02-08 18:30:00  2022          38           1110          1   \n",
       "36766 2022-02-08 19:30:00  2022          38           1170          1   \n",
       "36767 2022-02-08 19:40:00  2022          38           1180          1   \n",
       "36768 2022-02-08 19:05:00  2022          38           1145          1   \n",
       "36769 2022-02-08 20:35:00  2022          38           1235          1   \n",
       "\n",
       "       HolidayIndicator Airline  FlightNumber Destination AircraftType  \\\n",
       "0                   0.0      IA           874         DEN          73W   \n",
       "1                   0.0      JZ           818         YHM          AT7   \n",
       "2                   0.0      IA           876         DEN          73W   \n",
       "3                   0.0      CN           514         EST          AT7   \n",
       "4                   0.0      LJ          3140         DEN          32A   \n",
       "...                 ...     ...           ...         ...          ...   \n",
       "36765               0.0      VW           986         YYZ          320   \n",
       "36766               0.0      LJ           579         YQU          319   \n",
       "36767               0.0      LJ           506         YUL          319   \n",
       "36768               0.0      CL          2708         DAN          73H   \n",
       "36769               0.0      CL          3140         HFD          73H   \n",
       "\n",
       "      FlightType Sector  SeatCapacity  LoadFactor  \n",
       "0              J     US           142    0.408451  \n",
       "1              J     CA            74    0.189189  \n",
       "2              J     US           142    0.570423  \n",
       "3              J     US            72    0.333333  \n",
       "4              J     US           186    0.204301  \n",
       "...          ...    ...           ...         ...  \n",
       "36765          J     CA           180    0.522222  \n",
       "36766          J     CA           156    0.532051  \n",
       "36767          J     CA           156    0.602564  \n",
       "36768          J     US           189    0.417989  \n",
       "36769          J     US           189    0.497354  \n",
       "\n",
       "[36770 rows x 14 columns]"
      ]
     },
     "execution_count": 118,
     "metadata": {},
     "output_type": "execute_result"
    }
   ],
   "source": [
    "df"
   ]
  },
  {
   "cell_type": "code",
   "execution_count": 107,
   "id": "8ac844c2",
   "metadata": {},
   "outputs": [],
   "source": [
    "# test HolidayIndicator\n",
    "# pd.set_option('display.max_rows', 1000) # set the maximum number of rows to display\n",
    "# df.loc[(df['ScheduleTime'].dt.month == 4) & (df['ScheduleTime'].dt.day <= 10) & (df['ScheduleTime'].dt.day >= 1)]"
   ]
  },
  {
   "cell_type": "code",
   "execution_count": 120,
   "id": "ec3877fd",
   "metadata": {},
   "outputs": [],
   "source": [
    "data = df.iloc[:, 1:].values  # dataframe to numpy after pre-processing, discard initial 'ScheduleTime'\n",
    "\n",
    "################\n",
    "#Label encoders#\n",
    "################\n",
    "\n",
    "# Year\n",
    "le_year = LabelEncoder()\n",
    "data[:, 0] = le_year.fit_transform(data[:, 0])\n",
    "# data[:, 0] = le_year.inverse_transform(data[:, 0].astype(int))\n",
    "\n",
    "# Airline\n",
    "le_airline = LabelEncoder()\n",
    "data[:, 5] = le_airline.fit_transform(data[:, 5])\n",
    "# data[:, 5] = le_airline.inverse_transform(data[:, 5].astype(int))\n",
    "\n",
    "# FlightNumber\n",
    "le_flight_number = LabelEncoder()\n",
    "data[:, 6] = le_flight_number.fit_transform(data[:, 6])\n",
    "# data[:, 6] = le_flight_number.inverse_transform(data[:, 6].astype(int))\n",
    "\n",
    "# Destination \n",
    "le_destination = LabelEncoder()\n",
    "data[:, 7] = le_destination.fit_transform(data[:, 7])\n",
    "# data[:, 7] = le_destination.inverse_transform(data[:, 7].astype(int))\n",
    "\n",
    "# AircraftType\n",
    "le_aircraft_type = LabelEncoder()\n",
    "data[:, 8] = le_aircraft_type.fit_transform(data[:, 8])\n",
    "# data[:, 8] = le_aircraft_type.inverse_transform(data[:, 8].astype(int))\n",
    "\n",
    "# FlightType\n",
    "le_flight_type = LabelEncoder()\n",
    "data[:, 9] = le_flight_type.fit_transform(data[:, 9])\n",
    "# data[:, 9] = le_flight_type.inverse_transform(data[:, 9].astype(int))\n",
    "\n",
    "# Sector\n",
    "le_sector = LabelEncoder()\n",
    "data[:, 10] = le_sector.fit_transform(data[:, 10])\n",
    "# data[:, 10] = le_sector.inverse_transform(data[:, 10].astype(int))\n",
    "\n",
    "data = data.astype(float)"
   ]
  },
  {
   "cell_type": "markdown",
   "id": "86c46914",
   "metadata": {},
   "source": [
    "> $\\textbf{raw_data}$ is the unstandardized version and should never be changed"
   ]
  },
  {
   "cell_type": "code",
   "execution_count": 121,
   "id": "f125fe75",
   "metadata": {},
   "outputs": [
    {
     "name": "stdout",
     "output_type": "stream",
     "text": [
      "(36770, 13)\n"
     ]
    },
    {
     "name": "stderr",
     "output_type": "stream",
     "text": [
      "IOPub data rate exceeded.\n",
      "The notebook server will temporarily stop sending output\n",
      "to the client in order to avoid crashing it.\n",
      "To change this limit, set the config variable\n",
      "`--NotebookApp.iopub_data_rate_limit`.\n",
      "\n",
      "Current values:\n",
      "NotebookApp.iopub_data_rate_limit=1000000.0 (bytes/sec)\n",
      "NotebookApp.rate_limit_window=3.0 (secs)\n",
      "\n"
     ]
    }
   ],
   "source": [
    "raw_data = data\n",
    "print(raw_data.shape)\n",
    "print(raw_data)"
   ]
  },
  {
   "cell_type": "code",
   "execution_count": 122,
   "id": "7e0dad6b",
   "metadata": {},
   "outputs": [],
   "source": [
    "# check holiday indicator\n",
    "# np.set_printoptions(threshold=np.inf)\n",
    "# print(raw_data[:, 4])"
   ]
  },
  {
   "cell_type": "code",
   "execution_count": 123,
   "id": "bfd1b55a",
   "metadata": {},
   "outputs": [
    {
     "name": "stdout",
     "output_type": "stream",
     "text": [
      "The mean of seat capacity is 155.28550448735382\n",
      "The standard deviation of seat capacity is 58.850999210500184\n",
      "The mean of load factor is 0.531752306575933\n",
      "The standard deviation of load factor is 0.2721886897792685\n"
     ]
    }
   ],
   "source": [
    "# calculate the mean and standard deviation of two ratio features\n",
    "# seat capacity\n",
    "seat_capacity_mean = np.mean(data[:, -2])\n",
    "seat_capacity_std = np.std(data[:, -2])\n",
    "print('The mean of seat capacity is {}'.format(seat_capacity_mean))\n",
    "print('The standard deviation of seat capacity is {}'.format(seat_capacity_std))\n",
    "# load factor\n",
    "load_factor_mean = np.mean(data[:, -1])\n",
    "load_factor_std = np.std(data[:, -1])\n",
    "print('The mean of load factor is {}'.format(load_factor_mean))\n",
    "print('The standard deviation of load factor is {}'.format(load_factor_std))"
   ]
  },
  {
   "cell_type": "code",
   "execution_count": 124,
   "id": "23db7446",
   "metadata": {},
   "outputs": [],
   "source": [
    "# standardize a single feature\n",
    "def standardization(feature):\n",
    "    new_feature = (feature - np.mean(feature)) / np.std(feature)\n",
    "    return new_feature\n",
    "\n",
    "# DaysPassed\n",
    "# data[:, 1] = standardization(data[:, 1])\n",
    "# MinutesPassed\n",
    "# data[:, 2] = standardization(data[:, 2])\n",
    "# SeatCapacity\n",
    "# data[:, -2] = standardization(data[:, -2])\n",
    "# LoadFactor\n",
    "# data[:, -1] = standardization(data[:, -1])\n",
    "\n",
    "# standardize multiple features (a matrix of features)\n",
    "def standardize_X(features):\n",
    "    new_features = np.zeros((np.shape(features)[0], np.shape(features)[1]))\n",
    "    for i in range(np.shape(new_features)[1]):\n",
    "        new_features[:, i] = standardization(features[:, i])\n",
    "    return new_features"
   ]
  },
  {
   "cell_type": "code",
   "execution_count": 125,
   "id": "1b72814a",
   "metadata": {},
   "outputs": [],
   "source": [
    "y_ols = standardization(data[:, -1])  # target - standardized\n",
    "X_ols = standardize_X(data[:, :-1])  # features - standardized"
   ]
  },
  {
   "cell_type": "code",
   "execution_count": 126,
   "id": "13ca5a19",
   "metadata": {},
   "outputs": [
    {
     "name": "stderr",
     "output_type": "stream",
     "text": [
      "<ipython-input-126-0c0843d67cdd>:8: DeprecationWarning: `np.bool` is a deprecated alias for the builtin `bool`. To silence this warning, use `bool` by itself. Doing this will not modify any behavior and is safe. If you specifically wanted the numpy scalar type, use `np.bool_` here.\n",
      "Deprecated in NumPy 1.20; for more details and guidance: https://numpy.org/devdocs/release/1.20.0-notes.html#deprecations\n",
      "  sns.heatmap(corr, mask=np.zeros_like(corr, dtype=np.bool), cmap=sns.diverging_palette(220, 10, as_cmap=True),\n"
     ]
    },
    {
     "data": {
      "image/png": "[encoded data removed]",
      "text/plain": [
       "<Figure size 900x720 with 2 Axes>"
      ]
     },
     "metadata": {
      "needs_background": "light"
     },
     "output_type": "display_data"
    }
   ],
   "source": [
    "# correlation heatmap of processed data\n",
    "df2 = pd.DataFrame(standardize_X(data), \n",
    "                   columns=['Year', 'Days passed', 'Minutes passed',\n",
    "                           'Day of week', 'Holiday indicator', 'Airline', 'Flight number', 'Destination', \n",
    "                            'Aircraft type', 'Flight type', 'Sector', 'Seat capacity', 'Load factor'])\n",
    "f, ax = plt.subplots(figsize=(12.5, 10))\n",
    "corr = df2.corr() # calculates Pearsons coff.\n",
    "sns.heatmap(corr, mask=np.zeros_like(corr, dtype=np.bool), cmap=sns.diverging_palette(220, 10, as_cmap=True),\n",
    "            square=True, ax=ax)\n",
    "plt.savefig(\"corr_matrix.png\", bbox_inches='tight',dpi=1000)"
   ]
  },
  {
   "cell_type": "markdown",
   "id": "6a59eca1",
   "metadata": {},
   "source": [
    "## Ordinary Least Squares (OLS) - baseline"
   ]
  },
  {
   "cell_type": "code",
   "execution_count": 127,
   "id": "2dafac98",
   "metadata": {},
   "outputs": [
    {
     "name": "stdout",
     "output_type": "stream",
     "text": [
      "Weights for OLS regression: \n",
      " [-0.01692582  0.21061997  0.00066065  0.09646184  0.01407445  0.24970652\n",
      "  0.01116048 -0.0301155  -0.15195131 -0.14761986  0.00201361 -0.11826437]\n",
      "MSE for OLS regression: 0.8401153081336449\n"
     ]
    },
    {
     "ename": "NameError",
     "evalue": "name 'D' is not defined",
     "output_type": "error",
     "traceback": [
      "\u001b[0;31m---------------------------------------------------------------------------\u001b[0m",
      "\u001b[0;31mNameError\u001b[0m                                 Traceback (most recent call last)",
      "\u001b[0;32m<ipython-input-127-c332741047e0>\u001b[0m in \u001b[0;36m<module>\u001b[0;34m\u001b[0m\n\u001b[1;32m     10\u001b[0m \u001b[0minner\u001b[0m \u001b[0;34m=\u001b[0m \u001b[0mnp\u001b[0m\u001b[0;34m.\u001b[0m\u001b[0mlinalg\u001b[0m\u001b[0;34m.\u001b[0m\u001b[0minv\u001b[0m\u001b[0;34m(\u001b[0m\u001b[0mX_ols\u001b[0m\u001b[0;34m.\u001b[0m\u001b[0mT\u001b[0m \u001b[0;34m@\u001b[0m \u001b[0mX_ols\u001b[0m \u001b[0;34m*\u001b[0m \u001b[0mnp\u001b[0m\u001b[0;34m.\u001b[0m\u001b[0meye\u001b[0m\u001b[0;34m(\u001b[0m\u001b[0mp\u001b[0m\u001b[0;34m)\u001b[0m\u001b[0;34m)\u001b[0m\u001b[0;34m\u001b[0m\u001b[0;34m\u001b[0m\u001b[0m\n\u001b[1;32m     11\u001b[0m \u001b[0mouter\u001b[0m \u001b[0;34m=\u001b[0m \u001b[0;34m(\u001b[0m\u001b[0mX_ols\u001b[0m \u001b[0;34m@\u001b[0m \u001b[0minner\u001b[0m\u001b[0;34m)\u001b[0m \u001b[0;34m@\u001b[0m \u001b[0mX_ols\u001b[0m\u001b[0;34m.\u001b[0m\u001b[0mT\u001b[0m\u001b[0;34m\u001b[0m\u001b[0;34m\u001b[0m\u001b[0m\n\u001b[0;32m---> 12\u001b[0;31m \u001b[0mD\u001b[0m\u001b[0;34m[\u001b[0m\u001b[0mj\u001b[0m\u001b[0;34m]\u001b[0m \u001b[0;34m=\u001b[0m \u001b[0mnp\u001b[0m\u001b[0;34m.\u001b[0m\u001b[0mtrace\u001b[0m\u001b[0;34m(\u001b[0m\u001b[0mouter\u001b[0m\u001b[0;34m)\u001b[0m\u001b[0;34m\u001b[0m\u001b[0;34m\u001b[0m\u001b[0m\n\u001b[0m\u001b[1;32m     13\u001b[0m \u001b[0mAIC\u001b[0m \u001b[0;34m=\u001b[0m \u001b[0merr\u001b[0m \u001b[0;34m+\u001b[0m \u001b[0;36m2\u001b[0m \u001b[0;34m*\u001b[0m \u001b[0mD\u001b[0m\u001b[0;34m[\u001b[0m\u001b[0mj\u001b[0m\u001b[0;34m]\u001b[0m \u001b[0;34m/\u001b[0m \u001b[0mn\u001b[0m \u001b[0;34m*\u001b[0m \u001b[0ms\u001b[0m \u001b[0;34m**\u001b[0m \u001b[0;36m2\u001b[0m\u001b[0;34m\u001b[0m\u001b[0;34m\u001b[0m\u001b[0m\n\u001b[1;32m     14\u001b[0m \u001b[0mBIC\u001b[0m \u001b[0;34m=\u001b[0m \u001b[0mn\u001b[0m \u001b[0;34m/\u001b[0m \u001b[0;34m(\u001b[0m\u001b[0ms\u001b[0m \u001b[0;34m**\u001b[0m \u001b[0;36m2\u001b[0m\u001b[0;34m)\u001b[0m \u001b[0;34m*\u001b[0m \u001b[0;34m(\u001b[0m\u001b[0merr\u001b[0m \u001b[0;34m+\u001b[0m \u001b[0mnp\u001b[0m\u001b[0;34m.\u001b[0m\u001b[0mlog\u001b[0m\u001b[0;34m(\u001b[0m\u001b[0mn\u001b[0m\u001b[0;34m)\u001b[0m \u001b[0;34m*\u001b[0m \u001b[0mD\u001b[0m\u001b[0;34m[\u001b[0m\u001b[0mj\u001b[0m\u001b[0;34m]\u001b[0m \u001b[0;34m/\u001b[0m \u001b[0mn\u001b[0m \u001b[0;34m*\u001b[0m \u001b[0ms\u001b[0m \u001b[0;34m**\u001b[0m \u001b[0;36m2\u001b[0m\u001b[0;34m)\u001b[0m\u001b[0;34m\u001b[0m\u001b[0;34m\u001b[0m\u001b[0m\n",
      "\u001b[0;31mNameError\u001b[0m: name 'D' is not defined"
     ]
    }
   ],
   "source": [
    "beta_ols, _, _, _ = lng.lstsq(X_ols, y_ols)\n",
    "yhat_ols = np.sum(beta_ols*X_ols, axis=1)\n",
    "MSE_ols = np.sum((y_ols - yhat_ols)**2)/np.size(y_ols)\n",
    "print('Weights for OLS regression: \\n {}'.format(beta_ols))\n",
    "print('MSE for OLS regression: {}'.format(MSE_ols))\n",
    "\n",
    "# AIC and BIC\n",
    "e = y_ols - X_ols @ beta_ols\n",
    "err = np.sum(e ** 2) / n\n",
    "inner = np.linalg.inv(X_ols.T @ X_ols * np.eye(p))\n",
    "outer = (X_ols @ inner) @ X_ols.T\n",
    "D[j] = np.trace(outer)\n",
    "AIC = err + 2 * D[j] / n * s ** 2\n",
    "BIC = n / (s ** 2) * (err + np.log(n) * D[j] / n * s ** 2)"
   ]
  },
  {
   "cell_type": "code",
   "execution_count": 128,
   "id": "53a96b95",
   "metadata": {},
   "outputs": [
    {
     "name": "stdout",
     "output_type": "stream",
     "text": [
      "Feature: 0, Score: -0.01693\n",
      "Feature: 1, Score: 0.21062\n",
      "Feature: 2, Score: 0.00066\n",
      "Feature: 3, Score: 0.09646\n",
      "Feature: 4, Score: 0.01407\n",
      "Feature: 5, Score: 0.24971\n",
      "Feature: 6, Score: 0.01116\n",
      "Feature: 7, Score: -0.03012\n",
      "Feature: 8, Score: -0.15195\n",
      "Feature: 9, Score: -0.14762\n",
      "Feature: 10, Score: 0.00201\n",
      "Feature: 11, Score: -0.11826\n"
     ]
    },
    {
     "data": {
      "image/png": "[encoded data removed]",
      "text/plain": [
       "<Figure size 432x288 with 1 Axes>"
      ]
     },
     "metadata": {
      "needs_background": "light"
     },
     "output_type": "display_data"
    },
    {
     "data": {
      "text/plain": [
       "<Figure size 432x288 with 0 Axes>"
      ]
     },
     "metadata": {},
     "output_type": "display_data"
    }
   ],
   "source": [
    "# Bar chart feature impotance\n",
    "for i,v in enumerate(beta_ols):\n",
    "\tprint('Feature: %0d, Score: %.5f' % (i,v))\n",
    "# plot feature importance\n",
    "plt.bar([x for x in range(len(beta_ols))], beta_ols)\n",
    "plt.show()\n",
    "plt.savefig(\"Figures/corr_matrix.png\", bbox_inches='tight',dpi=1000)"
   ]
  },
  {
   "cell_type": "markdown",
   "id": "1f5bd566",
   "metadata": {},
   "source": [
    "# Use AIC and BIC to evaluate important features"
   ]
  },
  {
   "cell_type": "code",
   "execution_count": 129,
   "id": "0c3e347a",
   "metadata": {},
   "outputs": [
    {
     "ename": "NameError",
     "evalue": "name 'D' is not defined",
     "output_type": "error",
     "traceback": [
      "\u001b[0;31m---------------------------------------------------------------------------\u001b[0m",
      "\u001b[0;31mNameError\u001b[0m                                 Traceback (most recent call last)",
      "\u001b[0;32m<ipython-input-129-ed1b1e6bbdc7>\u001b[0m in \u001b[0;36m<module>\u001b[0;34m\u001b[0m\n\u001b[1;32m      9\u001b[0m \u001b[0minner\u001b[0m \u001b[0;34m=\u001b[0m \u001b[0mnp\u001b[0m\u001b[0;34m.\u001b[0m\u001b[0mlinalg\u001b[0m\u001b[0;34m.\u001b[0m\u001b[0minv\u001b[0m\u001b[0;34m(\u001b[0m\u001b[0mX_ols\u001b[0m\u001b[0;34m.\u001b[0m\u001b[0mT\u001b[0m \u001b[0;34m@\u001b[0m \u001b[0mX_ols\u001b[0m \u001b[0;34m*\u001b[0m \u001b[0mnp\u001b[0m\u001b[0;34m.\u001b[0m\u001b[0meye\u001b[0m\u001b[0;34m(\u001b[0m\u001b[0mp\u001b[0m\u001b[0;34m)\u001b[0m\u001b[0;34m)\u001b[0m\u001b[0;34m\u001b[0m\u001b[0;34m\u001b[0m\u001b[0m\n\u001b[1;32m     10\u001b[0m \u001b[0mouter\u001b[0m \u001b[0;34m=\u001b[0m \u001b[0;34m(\u001b[0m\u001b[0mX_ols\u001b[0m \u001b[0;34m@\u001b[0m \u001b[0minner\u001b[0m\u001b[0;34m)\u001b[0m \u001b[0;34m@\u001b[0m \u001b[0mX_ols\u001b[0m\u001b[0;34m.\u001b[0m\u001b[0mT\u001b[0m\u001b[0;34m\u001b[0m\u001b[0;34m\u001b[0m\u001b[0m\n\u001b[0;32m---> 11\u001b[0;31m \u001b[0mD\u001b[0m\u001b[0;34m[\u001b[0m\u001b[0mj\u001b[0m\u001b[0;34m]\u001b[0m \u001b[0;34m=\u001b[0m \u001b[0mnp\u001b[0m\u001b[0;34m.\u001b[0m\u001b[0mtrace\u001b[0m\u001b[0;34m(\u001b[0m\u001b[0mouter\u001b[0m\u001b[0;34m)\u001b[0m\u001b[0;34m\u001b[0m\u001b[0;34m\u001b[0m\u001b[0m\n\u001b[0m\u001b[1;32m     12\u001b[0m \u001b[0;34m\u001b[0m\u001b[0m\n\u001b[1;32m     13\u001b[0m \u001b[0me\u001b[0m \u001b[0;34m=\u001b[0m \u001b[0my_ols\u001b[0m \u001b[0;34m-\u001b[0m \u001b[0mX_ols\u001b[0m \u001b[0;34m@\u001b[0m \u001b[0mbeta_ols\u001b[0m\u001b[0;34m\u001b[0m\u001b[0;34m\u001b[0m\u001b[0m\n",
      "\u001b[0;31mNameError\u001b[0m: name 'D' is not defined"
     ]
    }
   ],
   "source": [
    "[n, p] = np.shape(X_ols)\n",
    "\n",
    "# Linear solver\n",
    "beta_ols, _, rnk, s = lng.lstsq(X_ols, yhat_ols)\n",
    "e = yhat_ols - X_ols @ beta_ols # Low bias std\n",
    "s = np.std(e)\n",
    "beta_ols = lng.lstsq(X_ols, y_ols)\n",
    "\n",
    "inner = np.linalg.inv(X_ols.T @ X_ols * np.eye(p))\n",
    "outer = (X_ols @ inner) @ X_ols.T\n",
    "D[j] = np.trace(outer)\n",
    "\n",
    "e = y_ols - X_ols @ beta_ols\n",
    "err = np.sum(e ** 2) / n\n",
    "AIC[j] = err + 2 * D[j] / n * s ** 2\n",
    "BIC[j] = n / (s ** 2) * (err + np.log(n) * D[j] / n * s ** 2)\n",
    "\n",
    "jAIC = np.argsort(AIC)[0]\n",
    "jBIC = np.argsort(BIC)[0]\n",
    "\n",
    "print(\"AIC at %0.2f\" % jAIC)\n",
    "print(\"BIC at %0.2f\" % jBIC)"
   ]
  },
  {
   "cell_type": "markdown",
   "id": "8ec43296",
   "metadata": {},
   "source": [
    "## Ridge Regression with Cross validation\n",
    "$L_2$-regularization with $K=10$ fold cross-validation and one-standard-error rule to select the optimal $\\lambda$."
   ]
  },
  {
   "cell_type": "code",
   "execution_count": 130,
   "id": "f910aa3a",
   "metadata": {},
   "outputs": [],
   "source": [
    "def ridgeMulti(X, _lambda, p, y):\n",
    "    inner_prod = np.linalg.inv(X.T @ X + _lambda * np.eye(p,p))\n",
    "    outer_prod = X.T @ y\n",
    "    betas = inner_prod @ outer_prod\n",
    "    return betas"
   ]
  },
  {
   "cell_type": "code",
   "execution_count": 131,
   "id": "7b078914",
   "metadata": {},
   "outputs": [],
   "source": [
    "def centerData(data):\n",
    "    mu = np.mean(data,axis=0)\n",
    "    centered_data = data - mu  \n",
    "    return centered_data, mu"
   ]
  },
  {
   "cell_type": "code",
   "execution_count": 132,
   "id": "dd922005",
   "metadata": {},
   "outputs": [
    {
     "data": {
      "image/png": "[encoded data removed]",
      "text/plain": [
       "<Figure size 432x288 with 1 Axes>"
      ]
     },
     "metadata": {
      "needs_background": "light"
     },
     "output_type": "display_data"
    }
   ],
   "source": [
    "X_rr = raw_data[:, :-1]  # without standardization\n",
    "y_rr = raw_data[:, -1]  # without standardization\n",
    "\n",
    "X_rr_std = standardize_X(X_rr)  # apply standardization - standardized\n",
    "y_rr_std = standardization(y_rr)  # apply standardization - standardized\n",
    "\n",
    "# n - the number of observations; p - the number of features\n",
    "[n, p] = np.shape(X_rr)\n",
    "\n",
    "K = 10 # the number folds\n",
    "k = 100 # the number of lambdas investigated \n",
    "# Create a vector of length n that contains equal amounts of numbers from 1 to K\n",
    "I = np.asarray([0] * n)\n",
    "for i in range(n):\n",
    "    I[i] = (i) % K + 1\n",
    "\n",
    "# Permute that vector. \n",
    "I = I[np.random.permutation(n)]\n",
    "\n",
    "lambdas = np.logspace(-2, 6, k)\n",
    "MSE = np.zeros((10, 100))\n",
    "\n",
    "betas = np.zeros((p,k))  # p - the number of features which equals to the dimension of betas\n",
    "    \n",
    "for i in range(k):\n",
    "    betas[:, i] = ridgeMulti(X_rr_std, lambdas[i], p, y_rr_std)\n",
    "\n",
    "for i in range(1, K+1):\n",
    "    \n",
    "    # Select the train/test data in this fold\n",
    "    XTrain = X_rr[i != I, :]\n",
    "    yTrain = y_rr[i != I]\n",
    "    XTest = X_rr[i == I, :]\n",
    "    yTest = y_rr[i == I]\n",
    "    \n",
    "    # Standardize\n",
    "    # yTrain = standardization(yTrain)\n",
    "    # yTest = standardization(yTest)\n",
    "    \n",
    "    # XTrain = standardize_X(XTrain)\n",
    "    # XTest = standardize_X(XTest)\n",
    "    \n",
    "    # Normalize\n",
    "    yTrain, mu = centerData(yTrain); # center training response\n",
    "    yTest = yTest - mu; # use the mean value of the training response to center the test response\n",
    "    \n",
    "    XTrain, mu = centerData(XTrain); # center training data\n",
    "    XTest = XTest - mu; # use the mean value of the training data to center the test data\n",
    "    normalizer_train = preproc.Normalizer().fit(XTrain.T) # Calculate training normalizer\n",
    "    XTrain = normalizer_train.transform(XTrain.T).T # normalize training data\n",
    "    normalizer_test = preproc.Normalizer().fit(XTest.T)  # Calculate the testing normalizer\n",
    "    XTest = normalizer_test.transform(XTest.T).T # normalize test data\n",
    "    \n",
    "    #Fit ridgeregression\n",
    "    for j in range(100):\n",
    "        beta = ridgeMulti(XTrain, lambdas[j], p, yTrain)\n",
    "        MSE[(i - 1), j] = np.mean((yTest - np.matmul(XTest, beta)) ** 2)\n",
    "\n",
    "        \n",
    "meanMSE = np.mean(MSE, axis = 0)\n",
    "jOpt = np.argsort(meanMSE)[0]\n",
    "lambda_OP = lambdas[jOpt]\n",
    "\n",
    "\n",
    "# Remember excact solution depends on a random indexing, so results may vary\n",
    "# I reuse the plot with all the betas from 1 a) and add a line for the optimal value of lambda\n",
    "plt.figure()\n",
    "plt.semilogx(lambdas, betas.T )\n",
    "plt.xlabel(\"Lambdas\")\n",
    "plt.ylabel(\"Betas\")\n",
    "plt.suptitle(f\"Optimal lambda: {lambda_OP}\", fontsize=20)\n",
    "plt.semilogx([lambda_OP, lambda_OP], [np.min(betas), np.max(betas)], marker = \".\")\n",
    "plt.show()"
   ]
  },
  {
   "cell_type": "code",
   "execution_count": 133,
   "id": "0ba30ac6",
   "metadata": {},
   "outputs": [
    {
     "name": "stdout",
     "output_type": "stream",
     "text": [
      "CV lambda with 1-std-rule 3.20\n"
     ]
    }
   ],
   "source": [
    "# Calculate the standard error for the best lambda, and find a the largest lambda with a MSE that is within\n",
    "# the range of the optimal lambda +- the standard error.\n",
    "\n",
    "seMSE = np.std(MSE, axis = 0) / np.sqrt(K)  # standard error\n",
    "# print(meanMSE)\n",
    "# print(np.where(meanMSE[jOpt] + seMSE[jOpt] > meanMSE))\n",
    "J = np.where(meanMSE[jOpt] + seMSE[jOpt] > meanMSE)[0]  # select lambda satisfy this criteria\n",
    "j = int(J[-1:])  # choose the last one - largest lambda\n",
    "Lambda_CV_1StdRule = lambdas[j]\n",
    "print(\"CV lambda with 1-std-rule %0.2f\" % Lambda_CV_1StdRule)"
   ]
  },
  {
   "cell_type": "code",
   "execution_count": 134,
   "id": "d3a66ea7",
   "metadata": {},
   "outputs": [
    {
     "name": "stdout",
     "output_type": "stream",
     "text": [
      "Weights for Ridge Regression: \n",
      " [-0.01694601  0.21058835  0.00065895  0.09645316  0.01407272  0.2496823\n",
      "  0.0111599  -0.03008706 -0.15191371 -0.14760543  0.0020319  -0.11822138]\n",
      "MSE for Ridge Regression: 0.8401153104806792\n"
     ]
    }
   ],
   "source": [
    "beta_rr = ridgeMulti(X_rr_std, Lambda_CV_1StdRule, p, y_rr_std)\n",
    "yhat_rr = np.sum(beta_rr*X_rr_std, axis=1)\n",
    "MSE_rr = np.sum((y_rr_std - yhat_rr)**2)/np.size(y_rr_std)\n",
    "print('Weights for Ridge Regression: \\n {}'.format(beta_rr))\n",
    "print('MSE for Ridge Regression: {}'.format(MSE_rr))"
   ]
  },
  {
   "cell_type": "markdown",
   "id": "48209bef",
   "metadata": {},
   "source": [
    "> Summary of Ridge Regression: It has no improvement comparing with OLS and even slightly worse cause the model is too simple to predict the result. "
   ]
  },
  {
   "cell_type": "markdown",
   "id": "f3dcc46b",
   "metadata": {},
   "source": [
    "## The Lasso\n",
    "- features selection with Least Angle Regression Selection(LARS) Algorithm and Cyclical Coordinate Descent(soft thresholding)"
   ]
  },
  {
   "cell_type": "markdown",
   "id": "8b226017",
   "metadata": {},
   "source": [
    "### LARS"
   ]
  },
  {
   "cell_type": "code",
   "execution_count": 135,
   "id": "47588fd1",
   "metadata": {},
   "outputs": [],
   "source": [
    "X_lars = raw_data[:, :-1]  # without standardization\n",
    "y_lars = raw_data[:, -1]  # without standardization\n",
    "\n",
    "X_lars_std = standardize_X(X_lars)  # apply standardization - standardized\n",
    "y_lars_std = standardization(y_lars)  # apply standardization - standardized\n",
    "\n",
    "CV = 10  # 10-fold cross-validation\n",
    "\n",
    "kf = KFold(n_splits=CV)\n",
    "stop = n-math.ceil(n/CV)\n",
    "K = range(stop)\n",
    "\n",
    "Err_tr = np.zeros((CV,len(K)))\n",
    "Err_tst = np.zeros((CV, len(K))) \n",
    "\n",
    "# Lars\n",
    "for i, (train_index, test_index) in enumerate(kf.split(X_lars)):\n",
    "    ytrain = y_lars[train_index].ravel() # ravel collapses the array, ie dim(x,1) to (x,)\n",
    "    ytest = y_lars[test_index].ravel() \n",
    "    Xtrain = X_lars[train_index]\n",
    "    Xtest = X_lars[test_index]\n",
    "\n",
    "    # NOTE: If you normalize outside the CV loop the data implicitly carry information of the test data\n",
    "    # We should perform CV \"the right way\" and keep test data unseen.    \n",
    "    ytrain, mu = centerData(ytrain); # center training response\n",
    "    ytest = ytest - mu; # use the mean value of the training response to center the test response\n",
    "    \n",
    "    Xtrain, mu = centerData(Xtrain); # center training data\n",
    "    Xtest = Xtest - mu; # use the mean value of the training data to center the test data\n",
    "    normalizer_train = preproc.Normalizer().fit(Xtrain.T) # Calculate training normalizer\n",
    "    normalizer_test = preproc.Normalizer().fit(Xtest.T) # Calculate testing normalizer\n",
    "    Xtrain = normalizer_train.transform(Xtrain.T).T # normalize training data\n",
    "    Xtest = normalizer_test.transform(Xtest.T).T # normalize test data\n",
    "\n",
    "    # compute all LARS solutions\n",
    "    for j in K:\n",
    "        # it is somewhat like forward step regression\n",
    "        reg = linear_model.Lars(n_nonzero_coefs=j, fit_path = False, fit_intercept = False, verbose = True)\n",
    "        reg.fit(Xtrain,ytrain)\n",
    "        beta = reg.coef_.ravel()\n",
    "        \n",
    "        # Predict with this model, and find error\n",
    "        YhatTr = Xtrain @ beta\n",
    "        YhatTest = Xtest @ beta\n",
    "        \n",
    "        Err_tr[i-1, j] = np.mean((YhatTr-ytrain)**2) # training error\n",
    "        Err_tst[i-1, j] = np.mean((YhatTest-ytest)**2) # test error\n",
    "        \n",
    "err_tr = np.mean(Err_tr, axis=0) # mean training error over the CV folds\n",
    "err_tst = np.mean(Err_tst, axis=0) # mean test error over the CV folds\n",
    "err_ste = np.std(Err_tst, axis=0)/np.sqrt(CV) # Note: we divide with sqrt(n) to get the standard error as opposed to the standard deviation"
   ]
  },
  {
   "cell_type": "code",
   "execution_count": 136,
   "id": "d3efd23f",
   "metadata": {},
   "outputs": [],
   "source": [
    "Betas = np.zeros((p, n))\n",
    "for j in range(n):\n",
    "    reg = linear_model.Lars(n_nonzero_coefs=j, normalize=True)\n",
    "    reg.fit(X_lars_std,y_lars_std)\n",
    "    Betas[:,i] = reg.coef_"
   ]
  },
  {
   "cell_type": "code",
   "execution_count": 137,
   "id": "535bce4b",
   "metadata": {},
   "outputs": [],
   "source": [
    "for j in range(len(K)):\n",
    "    Yhat = X_lars_std @ Betas[:,K[j]]"
   ]
  },
  {
   "cell_type": "code",
   "execution_count": 138,
   "id": "61fce71f",
   "metadata": {},
   "outputs": [
    {
     "name": "stdout",
     "output_type": "stream",
     "text": [
      "MSE for Lasso with LARS: 1.0000000000000002\n"
     ]
    }
   ],
   "source": [
    "print('MSE for Lasso with LARS: {}'.format(np.mean(((y_lars_std-Yhat)**2))))"
   ]
  },
  {
   "cell_type": "code",
   "execution_count": 139,
   "id": "d63d7a79",
   "metadata": {},
   "outputs": [
    {
     "name": "stderr",
     "output_type": "stream",
     "text": [
      "IOPub data rate exceeded.\n",
      "The notebook server will temporarily stop sending output\n",
      "to the client in order to avoid crashing it.\n",
      "To change this limit, set the config variable\n",
      "`--NotebookApp.iopub_data_rate_limit`.\n",
      "\n",
      "Current values:\n",
      "NotebookApp.iopub_data_rate_limit=1000000.0 (bytes/sec)\n",
      "NotebookApp.rate_limit_window=3.0 (secs)\n",
      "\n"
     ]
    }
   ],
   "source": [
    "print(Betas)"
   ]
  },
  {
   "cell_type": "code",
   "execution_count": null,
   "id": "b8de1f3e",
   "metadata": {},
   "outputs": [],
   "source": []
  },
  {
   "cell_type": "code",
   "execution_count": null,
   "id": "bde942b8",
   "metadata": {},
   "outputs": [],
   "source": []
  }
 ],
 "metadata": {
  "kernelspec": {
   "display_name": "Python 3",
   "language": "python",
   "name": "python3"
  },
  "language_info": {
   "codemirror_mode": {
    "name": "ipython",
    "version": 3
   },
   "file_extension": ".py",
   "mimetype": "text/x-python",
   "name": "python",
   "nbconvert_exporter": "python",
   "pygments_lexer": "ipython3",
   "version": "3.8.8"
  }
 },
 "nbformat": 4,
 "nbformat_minor": 5
}
